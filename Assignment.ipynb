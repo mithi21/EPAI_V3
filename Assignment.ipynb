{
 "cells": [
  {
   "cell_type": "markdown",
   "metadata": {},
   "source": [
    "Consider the following classes:"
   ]
  },
  {
   "cell_type": "code",
   "execution_count": 1,
   "metadata": {},
   "outputs": [],
   "source": [
    "class Stock:\n",
    "    def __init__(self, symbol, date, open_, high, low, close, volume):\n",
    "        self.symbol = symbol\n",
    "        self.date = date\n",
    "        self.open = open_\n",
    "        self.high = high\n",
    "        self.low = low\n",
    "        self.close = close\n",
    "        self.volume = volume\n",
    "        \n",
    "class Trade:\n",
    "    def __init__(self, symbol, timestamp, order, price, volume, commission):\n",
    "        self.symbol = symbol\n",
    "        self.timestamp = timestamp\n",
    "        self.order = order\n",
    "        self.price = price\n",
    "        self.commission = commission\n",
    "        self.volume = volume"
   ]
  },
  {
   "cell_type": "markdown",
   "metadata": {},
   "source": [
    "#### Exercise 1\n",
    "\n",
    "Given the above class, write a custom `JSONEncoder` class to **serialize** dictionaries that contain instances of these particular classes. Keep in mind that you will want to deserialize the data too - so you will need some technique to indicate the object type in your serialization.\n",
    "\n",
    "For example you may have an object such as this one that needs to be serialized:"
   ]
  },
  {
   "cell_type": "code",
   "execution_count": 2,
   "metadata": {},
   "outputs": [],
   "source": [
    "from datetime import date, datetime\n",
    "from decimal import Decimal\n",
    "\n",
    "activity = {\n",
    "    \"quotes\": [\n",
    "        Stock('TSLA', date(2018, 11, 22), \n",
    "              Decimal('338.19'), Decimal('338.64'), Decimal('337.60'), Decimal('338.19'), 365_607),\n",
    "        Stock('AAPL', date(2018, 11, 22), \n",
    "              Decimal('176.66'), Decimal('177.25'), Decimal('176.64'), Decimal('176.78'), 3_699_184),\n",
    "        Stock('MSFT', date(2018, 11, 22), \n",
    "              Decimal('103.25'), Decimal('103.48'), Decimal('103.07'), Decimal('103.11'), 4_493_689)\n",
    "    ],\n",
    "    \n",
    "    \"trades\": [\n",
    "        Trade('TSLA', datetime(2018, 11, 22, 10, 5, 12), 'buy', Decimal('338.25'), 100, Decimal('9.99')),\n",
    "        Trade('AAPL', datetime(2018, 11, 22, 10, 30, 5), 'sell', Decimal('177.01'), 20, Decimal('9.99'))\n",
    "    ]\n",
    "}"
   ]
  },
  {
   "cell_type": "markdown",
   "metadata": {},
   "source": [
    "Hint: You can modify the classes if you need to."
   ]
  },
  {
   "cell_type": "markdown",
   "metadata": {},
   "source": [
    "#### Exercise 2\n",
    "Write code to reverse the serialization you just created. Write a custom decoder that can deserialize a JSON structure containing `Stock` and `Trade` objects. "
   ]
  },
  {
   "cell_type": "markdown",
   "metadata": {},
   "source": [
    "#### Exercise 3"
   ]
  },
  {
   "cell_type": "markdown",
   "metadata": {},
   "source": [
    "Do the same serialization and deserialization, but using `Marshmallow`."
   ]
  },
  {
   "cell_type": "markdown",
   "metadata": {},
   "source": [
    "Here's a test_assignment.py file that contains 20 test cases to verify the correct implementation of serialization and deserialization using a custom JSONEncoder and JSONDecoder, as well as using Marshmallow."
   ]
  },
  {
   "cell_type": "code",
   "execution_count": 4,
   "metadata": {},
   "outputs": [
    {
     "ename": "ModuleNotFoundError",
     "evalue": "No module named 'assignment'",
     "output_type": "error",
     "traceback": [
      "\u001b[1;31m---------------------------------------------------------------------------\u001b[0m",
      "\u001b[1;31mModuleNotFoundError\u001b[0m                       Traceback (most recent call last)",
      "\u001b[1;32m~\\AppData\\Local\\Temp\\ipykernel_29832\\3168954722.py\u001b[0m in \u001b[0;36m<module>\u001b[1;34m\u001b[0m\n\u001b[0;32m      3\u001b[0m \u001b[1;32mfrom\u001b[0m \u001b[0mdecimal\u001b[0m \u001b[1;32mimport\u001b[0m \u001b[0mDecimal\u001b[0m\u001b[1;33m\u001b[0m\u001b[1;33m\u001b[0m\u001b[0m\n\u001b[0;32m      4\u001b[0m \u001b[1;32mimport\u001b[0m \u001b[0mjson\u001b[0m\u001b[1;33m\u001b[0m\u001b[1;33m\u001b[0m\u001b[0m\n\u001b[1;32m----> 5\u001b[1;33m \u001b[1;32mfrom\u001b[0m \u001b[0massignment\u001b[0m \u001b[1;32mimport\u001b[0m \u001b[0mStock\u001b[0m\u001b[1;33m,\u001b[0m \u001b[0mTrade\u001b[0m\u001b[1;33m,\u001b[0m \u001b[0mCustomEncoder\u001b[0m\u001b[1;33m,\u001b[0m \u001b[0mcustom_decoder\u001b[0m\u001b[1;33m,\u001b[0m \u001b[0mStockSchema\u001b[0m\u001b[1;33m,\u001b[0m \u001b[0mTradeSchema\u001b[0m\u001b[1;33m,\u001b[0m \u001b[0mserialize_with_marshmallow\u001b[0m\u001b[1;33m,\u001b[0m \u001b[0mdeserialize_with_marshmallow\u001b[0m\u001b[1;33m\u001b[0m\u001b[1;33m\u001b[0m\u001b[0m\n\u001b[0m\u001b[0;32m      6\u001b[0m \u001b[1;33m\u001b[0m\u001b[0m\n\u001b[0;32m      7\u001b[0m \u001b[1;31m# Sample data for testing\u001b[0m\u001b[1;33m\u001b[0m\u001b[1;33m\u001b[0m\u001b[0m\n",
      "\u001b[1;31mModuleNotFoundError\u001b[0m: No module named 'assignment'"
     ]
    }
   ],
   "source": [
    "import pytest\n",
    "from datetime import date, datetime\n",
    "from decimal import Decimal\n",
    "import json\n",
    "from assignment import Stock, Trade, CustomEncoder, custom_decoder, StockSchema, TradeSchema, serialize_with_marshmallow, deserialize_with_marshmallow\n",
    "\n",
    "# Sample data for testing\n",
    "activity = {\n",
    "    \"quotes\": [\n",
    "        Stock('TSLA', date(2018, 11, 22), Decimal('338.19'), Decimal('338.64'), Decimal('337.60'), Decimal('338.19'), 365_607),\n",
    "        Stock('AAPL', date(2018, 11, 22), Decimal('176.66'), Decimal('177.25'), Decimal('176.64'), Decimal('176.78'), 3_699_184),\n",
    "        Stock('MSFT', date(2018, 11, 22), Decimal('103.25'), Decimal('103.48'), Decimal('103.07'), Decimal('103.11'), 4_493_689)\n",
    "    ],\n",
    "    \"trades\": [\n",
    "        Trade('TSLA', datetime(2018, 11, 22, 10, 5, 12), 'buy', Decimal('338.25'), 100, Decimal('9.99')),\n",
    "        Trade('AAPL', datetime(2018, 11, 22, 10, 30, 5), 'sell', Decimal('177.01'), 20, Decimal('9.99'))\n",
    "    ]\n",
    "}\n",
    "\n",
    "def test_custom_encoder_stock_serialization():\n",
    "    \"\"\"Test that Stock objects are serialized correctly with CustomEncoder.\"\"\"\n",
    "    stock_json = json.dumps(activity[\"quotes\"][0], cls=CustomEncoder)\n",
    "    assert '\"symbol\": \"TSLA\"' in stock_json\n",
    "    assert '\"date\": \"2018-11-22\"' in stock_json\n",
    "\n",
    "def test_custom_encoder_trade_serialization():\n",
    "    \"\"\"Test that Trade objects are serialized correctly with CustomEncoder.\"\"\"\n",
    "    trade_json = json.dumps(activity[\"trades\"][0], cls=CustomEncoder)\n",
    "    assert '\"symbol\": \"TSLA\"' in trade_json\n",
    "    assert '\"timestamp\": \"2018-11-22T10:05:12\"' in trade_json\n",
    "\n",
    "def test_custom_encoder_nested_serialization():\n",
    "    \"\"\"Test that a nested dictionary with Stock and Trade objects is serialized correctly.\"\"\"\n",
    "    nested_json = json.dumps(activity, cls=CustomEncoder)\n",
    "    assert '\"quotes\"' in nested_json\n",
    "    assert '\"trades\"' in nested_json\n",
    "\n",
    "def test_custom_decoder_stock_deserialization():\n",
    "    \"\"\"Test that Stock objects are deserialized correctly with CustomDecoder.\"\"\"\n",
    "    stock_json = json.dumps(activity[\"quotes\"], cls=CustomEncoder)\n",
    "    stocks = json.loads(stock_json, object_hook=custom_decoder)\n",
    "    assert isinstance(stocks[0], Stock)\n",
    "    assert stocks[0].symbol == 'TSLA'\n",
    "\n",
    "def test_custom_decoder_trade_deserialization():\n",
    "    \"\"\"Test that Trade objects are deserialized correctly with CustomDecoder.\"\"\"\n",
    "    trade_json = json.dumps(activity[\"trades\"], cls=CustomEncoder)\n",
    "    trades = json.loads(trade_json, object_hook=custom_decoder)\n",
    "    assert isinstance(trades[0], Trade)\n",
    "    assert trades[0].symbol == 'TSLA'\n",
    "\n",
    "def test_custom_decoder_nested_deserialization():\n",
    "    \"\"\"Test that a nested dictionary with Stock and Trade objects is deserialized correctly.\"\"\"\n",
    "    nested_json = json.dumps(activity, cls=CustomEncoder)\n",
    "    data = json.loads(nested_json, object_hook=custom_decoder)\n",
    "    assert isinstance(data[\"quotes\"][0], Stock)\n",
    "    assert isinstance(data[\"trades\"][0], Trade)\n",
    "\n",
    "def test_marshmallow_stock_serialization():\n",
    "    \"\"\"Test that Stock objects are serialized correctly with Marshmallow.\"\"\"\n",
    "    stock_json = serialize_with_marshmallow(activity[\"quotes\"][0])\n",
    "    assert \"TSLA\" in stock_json\n",
    "    assert \"2018-11-22\" in stock_json\n",
    "\n",
    "def test_marshmallow_trade_serialization():\n",
    "    \"\"\"Test that Trade objects are serialized correctly with Marshmallow.\"\"\"\n",
    "    trade_json = serialize_with_marshmallow(activity[\"trades\"][0])\n",
    "    assert \"TSLA\" in trade_json\n",
    "    assert \"2018-11-22T10:05:12\" in trade_json\n",
    "\n",
    "def test_marshmallow_nested_serialization():\n",
    "    \"\"\"Test that a nested dictionary with Stock and Trade objects is serialized correctly with Marshmallow.\"\"\"\n",
    "    quotes_json = [serialize_with_marshmallow(stock) for stock in activity[\"quotes\"]]\n",
    "    trades_json = [serialize_with_marshmallow(trade) for trade in activity[\"trades\"]]\n",
    "    assert len(quotes_json) == 3\n",
    "    assert len(trades_json) == 2\n",
    "\n",
    "def test_marshmallow_stock_deserialization():\n",
    "    \"\"\"Test that Stock objects are deserialized correctly with Marshmallow.\"\"\"\n",
    "    stock_json = serialize_with_marshmallow(activity[\"quotes\"][0])\n",
    "    stock = deserialize_with_marshmallow(stock_json, StockSchema())\n",
    "    assert isinstance(stock, Stock)\n",
    "    assert stock.symbol == 'TSLA'\n",
    "\n",
    "def test_marshmallow_trade_deserialization():\n",
    "    \"\"\"Test that Trade objects are deserialized correctly with Marshmallow.\"\"\"\n",
    "    trade_json = serialize_with_marshmallow(activity[\"trades\"][0])\n",
    "    trade = deserialize_with_marshmallow(trade_json, TradeSchema())\n",
    "    assert isinstance(trade, Trade)\n",
    "    assert trade.symbol == 'TSLA'\n",
    "\n",
    "def test_marshmallow_nested_deserialization():\n",
    "    \"\"\"Test that a nested dictionary with Stock and Trade objects is deserialized correctly with Marshmallow.\"\"\"\n",
    "    quotes_json = [serialize_with_marshmallow(stock) for stock in activity[\"quotes\"]]\n",
    "    trades_json = [serialize_with_marshmallow(trade) for trade in activity[\"trades\"]]\n",
    "    quotes = [deserialize_with_marshmallow(q, StockSchema()) for q in quotes_json]\n",
    "    trades = [deserialize_with_marshmallow(t, TradeSchema()) for t in trades_json]\n",
    "    assert len(quotes) == 3\n",
    "    assert len(trades) == 2\n",
    "\n",
    "# Additional tests for edge cases\n",
    "def test_empty_stock_list_serialization():\n",
    "    \"\"\"Test that an empty list of stocks serializes and deserializes correctly.\"\"\"\n",
    "    empty_list_json = json.dumps([], cls=CustomEncoder)\n",
    "    result = json.loads(empty_list_json, object_hook=custom_decoder)\n",
    "    assert result == []\n",
    "\n",
    "def test_empty_trade_list_serialization():\n",
    "    \"\"\"Test that an empty list of trades serializes and deserializes correctly.\"\"\"\n",
    "    empty_list_json = json.dumps([], cls=CustomEncoder)\n",
    "    result = json.loads(empty_list_json, object_hook=custom_decoder)\n",
    "    assert result == []\n",
    "\n",
    "def test_invalid_json_for_custom_decoder():\n",
    "    \"\"\"Test that invalid JSON raises a decoding error with CustomDecoder.\"\"\"\n",
    "    invalid_json = '{\"quotes\": [invalid data]}'\n",
    "    with pytest.raises(json.JSONDecodeError):\n",
    "        json.loads(invalid_json, object_hook=custom_decoder)\n",
    "\n",
    "def test_invalid_json_for_marshmallow_decoder():\n",
    "    \"\"\"Test that invalid JSON raises a decoding error with Marshmallow.\"\"\"\n",
    "    invalid_json = '{\"quotes\": [invalid data]}'\n",
    "    with pytest.raises(ValueError):\n",
    "        deserialize_with_marshmallow(invalid_json, StockSchema())\n",
    "\n",
    "def test_custom_encoder_handles_decimal_properly():\n",
    "    \"\"\"Test that decimals are serialized as strings in JSON.\"\"\"\n",
    "    stock_json = json.dumps(activity[\"quotes\"][0], cls=CustomEncoder)\n",
    "    assert '\"338.19\"' in stock_json\n",
    "\n",
    "def test_custom_decoder_handles_decimal_properly():\n",
    "    \"\"\"Test that decimals are deserialized back into Decimal objects.\"\"\"\n",
    "    stock_json = json.dumps(activity[\"quotes\"], cls=CustomEncoder)\n",
    "    stocks = json.loads(stock_json, object_hook=custom_decoder)\n",
    "    assert isinstance(stocks[0].open, Decimal)\n"
   ]
  },
  {
   "cell_type": "code",
   "execution_count": null,
   "metadata": {},
   "outputs": [],
   "source": []
  }
 ],
 "metadata": {
  "kernelspec": {
   "display_name": "base",
   "language": "python",
   "name": "python3"
  },
  "language_info": {
   "codemirror_mode": {
    "name": "ipython",
    "version": 3
   },
   "file_extension": ".py",
   "mimetype": "text/x-python",
   "name": "python",
   "nbconvert_exporter": "python",
   "pygments_lexer": "ipython3",
   "version": "3.9.7"
  }
 },
 "nbformat": 4,
 "nbformat_minor": 2
}
